{
 "cells": [
  {
   "cell_type": "markdown",
   "metadata": {},
   "source": [
    "# Demand forecasting with the Temporal Fusion Transformer\n"
   ]
  },
  {
   "cell_type": "code",
   "execution_count": 1,
   "metadata": {
    "jupyter": {
     "outputs_hidden": false
    },
    "pycharm": {
     "name": "#%%\n"
    }
   },
   "outputs": [],
   "source": [
    "import os\n",
    "import warnings\n",
    "\n",
    "warnings.filterwarnings(\"ignore\")  # avoid printing out absolute paths\n",
    "\n",
    "os.chdir(\"../../..\")"
   ]
  },
  {
   "cell_type": "code",
   "execution_count": 2,
   "metadata": {
    "jupyter": {
     "outputs_hidden": false
    },
    "pycharm": {
     "name": "#%%\n"
    }
   },
   "outputs": [],
   "source": [
    "import copy\n",
    "from pathlib import Path\n",
    "import warnings\n",
    "\n",
    "import lightning.pytorch as pl\n",
    "from lightning.pytorch.callbacks import EarlyStopping, LearningRateMonitor\n",
    "from lightning.pytorch.loggers import TensorBoardLogger\n",
    "import numpy as np\n",
    "import pandas as pd\n",
    "import torch\n",
    "\n",
    "from pytorch_forecasting import Baseline, TemporalFusionTransformer, TimeSeriesDataSet\n",
    "from pytorch_forecasting.data import GroupNormalizer\n",
    "from pytorch_forecasting.metrics import MAE, SMAPE, PoissonLoss, QuantileLoss\n",
    "from pytorch_forecasting.models.temporal_fusion_transformer.tuning import optimize_hyperparameters"
   ]
  },
  {
   "cell_type": "code",
   "execution_count": 3,
   "metadata": {},
   "outputs": [],
   "source": [
    "import torch\n",
    "import torch.nn as nn\n",
    "import torch.optim as optim\n",
    "import torch.nn.functional as F\n",
    "from sklearn.preprocessing import StandardScaler\n",
    "from torch.utils.data import Dataset, DataLoader, random_split"
   ]
  },
  {
   "cell_type": "code",
   "execution_count": 4,
   "metadata": {},
   "outputs": [],
   "source": [
    "import seaborn as sns\n",
    "import matplotlib.pyplot as plt\n",
    "from sklearn.metrics import mean_squared_error, r2_score\n",
    "from sklearn.model_selection import train_test_split\n",
    "import statsmodels.api as sm\n",
    "import statsmodels.tsa.api as tsa\n",
    "import matplotlib.pyplot as plt\n",
    "import sympy"
   ]
  },
  {
   "cell_type": "code",
   "execution_count": 5,
   "metadata": {},
   "outputs": [],
   "source": [
    "path = os.getcwd() + '/docs/source/tutorials/project_data/'"
   ]
  },
  {
   "cell_type": "markdown",
   "metadata": {},
   "source": [
    "# Predicting"
   ]
  },
  {
   "cell_type": "code",
   "execution_count": 19,
   "metadata": {
    "scrolled": false
   },
   "outputs": [
    {
     "data": {
      "text/html": [
       "<div>\n",
       "<style scoped>\n",
       "    .dataframe tbody tr th:only-of-type {\n",
       "        vertical-align: middle;\n",
       "    }\n",
       "\n",
       "    .dataframe tbody tr th {\n",
       "        vertical-align: top;\n",
       "    }\n",
       "\n",
       "    .dataframe thead th {\n",
       "        text-align: right;\n",
       "    }\n",
       "</style>\n",
       "<table border=\"1\" class=\"dataframe\">\n",
       "  <thead>\n",
       "    <tr style=\"text-align: right;\">\n",
       "      <th></th>\n",
       "      <th>% Iron Feed</th>\n",
       "      <th>% Silica Feed</th>\n",
       "      <th>Starch Flow</th>\n",
       "      <th>Amina Flow</th>\n",
       "      <th>Ore Pulp Flow</th>\n",
       "      <th>Ore Pulp pH</th>\n",
       "      <th>Ore Pulp Density</th>\n",
       "      <th>Flotation Column 01 Air Flow</th>\n",
       "      <th>Flotation Column 02 Air Flow</th>\n",
       "      <th>Flotation Column 03 Air Flow</th>\n",
       "      <th>...</th>\n",
       "      <th>Flotation Column 06 Air Flow</th>\n",
       "      <th>Flotation Column 07 Air Flow</th>\n",
       "      <th>Flotation Column 01 Level</th>\n",
       "      <th>Flotation Column 02 Level</th>\n",
       "      <th>Flotation Column 03 Level</th>\n",
       "      <th>Flotation Column 04 Level</th>\n",
       "      <th>Flotation Column 05 Level</th>\n",
       "      <th>Flotation Column 06 Level</th>\n",
       "      <th>Flotation Column 07 Level</th>\n",
       "      <th>% Silica Concentrate</th>\n",
       "    </tr>\n",
       "  </thead>\n",
       "  <tbody>\n",
       "    <tr>\n",
       "      <th>0</th>\n",
       "      <td>55.20</td>\n",
       "      <td>16.98</td>\n",
       "      <td>3162.625026</td>\n",
       "      <td>578.786678</td>\n",
       "      <td>398.753368</td>\n",
       "      <td>10.113487</td>\n",
       "      <td>1.729558</td>\n",
       "      <td>251.166672</td>\n",
       "      <td>250.226086</td>\n",
       "      <td>250.178287</td>\n",
       "      <td>...</td>\n",
       "      <td>251.232529</td>\n",
       "      <td>250.208184</td>\n",
       "      <td>450.383776</td>\n",
       "      <td>446.891845</td>\n",
       "      <td>450.474523</td>\n",
       "      <td>449.912259</td>\n",
       "      <td>455.792161</td>\n",
       "      <td>464.383310</td>\n",
       "      <td>450.532747</td>\n",
       "      <td>1.31</td>\n",
       "    </tr>\n",
       "    <tr>\n",
       "      <th>1</th>\n",
       "      <td>55.20</td>\n",
       "      <td>16.98</td>\n",
       "      <td>3133.256389</td>\n",
       "      <td>537.219661</td>\n",
       "      <td>399.871822</td>\n",
       "      <td>10.129742</td>\n",
       "      <td>1.667784</td>\n",
       "      <td>249.880589</td>\n",
       "      <td>250.214050</td>\n",
       "      <td>250.033317</td>\n",
       "      <td>...</td>\n",
       "      <td>249.909494</td>\n",
       "      <td>249.897572</td>\n",
       "      <td>449.373361</td>\n",
       "      <td>450.249356</td>\n",
       "      <td>450.081222</td>\n",
       "      <td>450.328806</td>\n",
       "      <td>448.722983</td>\n",
       "      <td>455.501528</td>\n",
       "      <td>451.387700</td>\n",
       "      <td>1.11</td>\n",
       "    </tr>\n",
       "    <tr>\n",
       "      <th>2</th>\n",
       "      <td>55.20</td>\n",
       "      <td>16.98</td>\n",
       "      <td>3479.482944</td>\n",
       "      <td>591.906744</td>\n",
       "      <td>398.763806</td>\n",
       "      <td>10.048403</td>\n",
       "      <td>1.732711</td>\n",
       "      <td>250.161328</td>\n",
       "      <td>250.104167</td>\n",
       "      <td>250.046350</td>\n",
       "      <td>...</td>\n",
       "      <td>250.242161</td>\n",
       "      <td>250.484183</td>\n",
       "      <td>449.972878</td>\n",
       "      <td>450.868711</td>\n",
       "      <td>450.901822</td>\n",
       "      <td>451.145822</td>\n",
       "      <td>451.134189</td>\n",
       "      <td>459.981311</td>\n",
       "      <td>450.296722</td>\n",
       "      <td>1.27</td>\n",
       "    </tr>\n",
       "    <tr>\n",
       "      <th>3</th>\n",
       "      <td>55.20</td>\n",
       "      <td>16.98</td>\n",
       "      <td>3228.036436</td>\n",
       "      <td>593.170106</td>\n",
       "      <td>399.866983</td>\n",
       "      <td>9.918614</td>\n",
       "      <td>1.731056</td>\n",
       "      <td>250.208772</td>\n",
       "      <td>250.204761</td>\n",
       "      <td>250.120861</td>\n",
       "      <td>...</td>\n",
       "      <td>249.825122</td>\n",
       "      <td>250.157622</td>\n",
       "      <td>487.940706</td>\n",
       "      <td>491.462111</td>\n",
       "      <td>487.387206</td>\n",
       "      <td>494.528183</td>\n",
       "      <td>495.664011</td>\n",
       "      <td>502.763850</td>\n",
       "      <td>494.939889</td>\n",
       "      <td>1.36</td>\n",
       "    </tr>\n",
       "    <tr>\n",
       "      <th>4</th>\n",
       "      <td>55.20</td>\n",
       "      <td>16.98</td>\n",
       "      <td>3327.280739</td>\n",
       "      <td>619.710806</td>\n",
       "      <td>399.615089</td>\n",
       "      <td>9.746029</td>\n",
       "      <td>1.765879</td>\n",
       "      <td>249.917800</td>\n",
       "      <td>250.160494</td>\n",
       "      <td>250.013500</td>\n",
       "      <td>...</td>\n",
       "      <td>250.249600</td>\n",
       "      <td>250.078639</td>\n",
       "      <td>549.031539</td>\n",
       "      <td>549.983156</td>\n",
       "      <td>549.459572</td>\n",
       "      <td>549.975483</td>\n",
       "      <td>549.512533</td>\n",
       "      <td>560.696300</td>\n",
       "      <td>550.271772</td>\n",
       "      <td>1.34</td>\n",
       "    </tr>\n",
       "    <tr>\n",
       "      <th>...</th>\n",
       "      <td>...</td>\n",
       "      <td>...</td>\n",
       "      <td>...</td>\n",
       "      <td>...</td>\n",
       "      <td>...</td>\n",
       "      <td>...</td>\n",
       "      <td>...</td>\n",
       "      <td>...</td>\n",
       "      <td>...</td>\n",
       "      <td>...</td>\n",
       "      <td>...</td>\n",
       "      <td>...</td>\n",
       "      <td>...</td>\n",
       "      <td>...</td>\n",
       "      <td>...</td>\n",
       "      <td>...</td>\n",
       "      <td>...</td>\n",
       "      <td>...</td>\n",
       "      <td>...</td>\n",
       "      <td>...</td>\n",
       "      <td>...</td>\n",
       "    </tr>\n",
       "    <tr>\n",
       "      <th>4092</th>\n",
       "      <td>49.75</td>\n",
       "      <td>23.20</td>\n",
       "      <td>3327.047776</td>\n",
       "      <td>497.211189</td>\n",
       "      <td>380.847200</td>\n",
       "      <td>9.176166</td>\n",
       "      <td>1.660871</td>\n",
       "      <td>301.565561</td>\n",
       "      <td>300.169133</td>\n",
       "      <td>299.900722</td>\n",
       "      <td>...</td>\n",
       "      <td>335.658144</td>\n",
       "      <td>298.736661</td>\n",
       "      <td>397.781583</td>\n",
       "      <td>498.753311</td>\n",
       "      <td>403.858956</td>\n",
       "      <td>398.930467</td>\n",
       "      <td>502.971728</td>\n",
       "      <td>399.468911</td>\n",
       "      <td>400.559511</td>\n",
       "      <td>1.65</td>\n",
       "    </tr>\n",
       "    <tr>\n",
       "      <th>4093</th>\n",
       "      <td>49.75</td>\n",
       "      <td>23.20</td>\n",
       "      <td>4225.800333</td>\n",
       "      <td>508.963856</td>\n",
       "      <td>381.112889</td>\n",
       "      <td>9.387541</td>\n",
       "      <td>1.691996</td>\n",
       "      <td>300.050172</td>\n",
       "      <td>299.967839</td>\n",
       "      <td>299.906550</td>\n",
       "      <td>...</td>\n",
       "      <td>348.172800</td>\n",
       "      <td>303.599269</td>\n",
       "      <td>399.928567</td>\n",
       "      <td>499.648950</td>\n",
       "      <td>399.208611</td>\n",
       "      <td>399.967122</td>\n",
       "      <td>501.624533</td>\n",
       "      <td>398.905006</td>\n",
       "      <td>400.486233</td>\n",
       "      <td>1.71</td>\n",
       "    </tr>\n",
       "    <tr>\n",
       "      <th>4094</th>\n",
       "      <td>49.75</td>\n",
       "      <td>23.20</td>\n",
       "      <td>2808.214692</td>\n",
       "      <td>517.748822</td>\n",
       "      <td>381.064411</td>\n",
       "      <td>9.771277</td>\n",
       "      <td>1.735647</td>\n",
       "      <td>299.814289</td>\n",
       "      <td>299.801561</td>\n",
       "      <td>299.973161</td>\n",
       "      <td>...</td>\n",
       "      <td>349.422803</td>\n",
       "      <td>309.875439</td>\n",
       "      <td>399.961433</td>\n",
       "      <td>500.484917</td>\n",
       "      <td>471.827489</td>\n",
       "      <td>399.931033</td>\n",
       "      <td>500.223311</td>\n",
       "      <td>401.899806</td>\n",
       "      <td>400.556333</td>\n",
       "      <td>1.80</td>\n",
       "    </tr>\n",
       "    <tr>\n",
       "      <th>4095</th>\n",
       "      <td>49.75</td>\n",
       "      <td>23.20</td>\n",
       "      <td>3191.497672</td>\n",
       "      <td>492.511228</td>\n",
       "      <td>380.445006</td>\n",
       "      <td>9.782121</td>\n",
       "      <td>1.716644</td>\n",
       "      <td>300.122756</td>\n",
       "      <td>299.679472</td>\n",
       "      <td>299.927028</td>\n",
       "      <td>...</td>\n",
       "      <td>349.613589</td>\n",
       "      <td>305.254558</td>\n",
       "      <td>399.601383</td>\n",
       "      <td>498.614494</td>\n",
       "      <td>836.277192</td>\n",
       "      <td>400.455389</td>\n",
       "      <td>500.406239</td>\n",
       "      <td>402.703283</td>\n",
       "      <td>401.769072</td>\n",
       "      <td>1.96</td>\n",
       "    </tr>\n",
       "    <tr>\n",
       "      <th>4096</th>\n",
       "      <td>49.75</td>\n",
       "      <td>23.20</td>\n",
       "      <td>3638.543653</td>\n",
       "      <td>460.769950</td>\n",
       "      <td>380.823147</td>\n",
       "      <td>9.653802</td>\n",
       "      <td>1.667826</td>\n",
       "      <td>299.778889</td>\n",
       "      <td>300.095394</td>\n",
       "      <td>299.840833</td>\n",
       "      <td>...</td>\n",
       "      <td>349.355083</td>\n",
       "      <td>315.264733</td>\n",
       "      <td>400.026289</td>\n",
       "      <td>499.721794</td>\n",
       "      <td>868.549247</td>\n",
       "      <td>398.764744</td>\n",
       "      <td>500.682167</td>\n",
       "      <td>399.375644</td>\n",
       "      <td>398.775261</td>\n",
       "      <td>1.71</td>\n",
       "    </tr>\n",
       "  </tbody>\n",
       "</table>\n",
       "<p>4097 rows × 22 columns</p>\n",
       "</div>"
      ],
      "text/plain": [
       "      % Iron Feed  % Silica Feed  Starch Flow  Amina Flow  Ore Pulp Flow  \\\n",
       "0           55.20          16.98  3162.625026  578.786678     398.753368   \n",
       "1           55.20          16.98  3133.256389  537.219661     399.871822   \n",
       "2           55.20          16.98  3479.482944  591.906744     398.763806   \n",
       "3           55.20          16.98  3228.036436  593.170106     399.866983   \n",
       "4           55.20          16.98  3327.280739  619.710806     399.615089   \n",
       "...           ...            ...          ...         ...            ...   \n",
       "4092        49.75          23.20  3327.047776  497.211189     380.847200   \n",
       "4093        49.75          23.20  4225.800333  508.963856     381.112889   \n",
       "4094        49.75          23.20  2808.214692  517.748822     381.064411   \n",
       "4095        49.75          23.20  3191.497672  492.511228     380.445006   \n",
       "4096        49.75          23.20  3638.543653  460.769950     380.823147   \n",
       "\n",
       "      Ore Pulp pH  Ore Pulp Density  Flotation Column 01 Air Flow  \\\n",
       "0       10.113487          1.729558                    251.166672   \n",
       "1       10.129742          1.667784                    249.880589   \n",
       "2       10.048403          1.732711                    250.161328   \n",
       "3        9.918614          1.731056                    250.208772   \n",
       "4        9.746029          1.765879                    249.917800   \n",
       "...           ...               ...                           ...   \n",
       "4092     9.176166          1.660871                    301.565561   \n",
       "4093     9.387541          1.691996                    300.050172   \n",
       "4094     9.771277          1.735647                    299.814289   \n",
       "4095     9.782121          1.716644                    300.122756   \n",
       "4096     9.653802          1.667826                    299.778889   \n",
       "\n",
       "      Flotation Column 02 Air Flow  Flotation Column 03 Air Flow  ...  \\\n",
       "0                       250.226086                    250.178287  ...   \n",
       "1                       250.214050                    250.033317  ...   \n",
       "2                       250.104167                    250.046350  ...   \n",
       "3                       250.204761                    250.120861  ...   \n",
       "4                       250.160494                    250.013500  ...   \n",
       "...                            ...                           ...  ...   \n",
       "4092                    300.169133                    299.900722  ...   \n",
       "4093                    299.967839                    299.906550  ...   \n",
       "4094                    299.801561                    299.973161  ...   \n",
       "4095                    299.679472                    299.927028  ...   \n",
       "4096                    300.095394                    299.840833  ...   \n",
       "\n",
       "      Flotation Column 06 Air Flow  Flotation Column 07 Air Flow  \\\n",
       "0                       251.232529                    250.208184   \n",
       "1                       249.909494                    249.897572   \n",
       "2                       250.242161                    250.484183   \n",
       "3                       249.825122                    250.157622   \n",
       "4                       250.249600                    250.078639   \n",
       "...                            ...                           ...   \n",
       "4092                    335.658144                    298.736661   \n",
       "4093                    348.172800                    303.599269   \n",
       "4094                    349.422803                    309.875439   \n",
       "4095                    349.613589                    305.254558   \n",
       "4096                    349.355083                    315.264733   \n",
       "\n",
       "      Flotation Column 01 Level  Flotation Column 02 Level  \\\n",
       "0                    450.383776                 446.891845   \n",
       "1                    449.373361                 450.249356   \n",
       "2                    449.972878                 450.868711   \n",
       "3                    487.940706                 491.462111   \n",
       "4                    549.031539                 549.983156   \n",
       "...                         ...                        ...   \n",
       "4092                 397.781583                 498.753311   \n",
       "4093                 399.928567                 499.648950   \n",
       "4094                 399.961433                 500.484917   \n",
       "4095                 399.601383                 498.614494   \n",
       "4096                 400.026289                 499.721794   \n",
       "\n",
       "      Flotation Column 03 Level  Flotation Column 04 Level  \\\n",
       "0                    450.474523                 449.912259   \n",
       "1                    450.081222                 450.328806   \n",
       "2                    450.901822                 451.145822   \n",
       "3                    487.387206                 494.528183   \n",
       "4                    549.459572                 549.975483   \n",
       "...                         ...                        ...   \n",
       "4092                 403.858956                 398.930467   \n",
       "4093                 399.208611                 399.967122   \n",
       "4094                 471.827489                 399.931033   \n",
       "4095                 836.277192                 400.455389   \n",
       "4096                 868.549247                 398.764744   \n",
       "\n",
       "      Flotation Column 05 Level  Flotation Column 06 Level  \\\n",
       "0                    455.792161                 464.383310   \n",
       "1                    448.722983                 455.501528   \n",
       "2                    451.134189                 459.981311   \n",
       "3                    495.664011                 502.763850   \n",
       "4                    549.512533                 560.696300   \n",
       "...                         ...                        ...   \n",
       "4092                 502.971728                 399.468911   \n",
       "4093                 501.624533                 398.905006   \n",
       "4094                 500.223311                 401.899806   \n",
       "4095                 500.406239                 402.703283   \n",
       "4096                 500.682167                 399.375644   \n",
       "\n",
       "      Flotation Column 07 Level  % Silica Concentrate  \n",
       "0                    450.532747                  1.31  \n",
       "1                    451.387700                  1.11  \n",
       "2                    450.296722                  1.27  \n",
       "3                    494.939889                  1.36  \n",
       "4                    550.271772                  1.34  \n",
       "...                         ...                   ...  \n",
       "4092                 400.559511                  1.65  \n",
       "4093                 400.486233                  1.71  \n",
       "4094                 400.556333                  1.80  \n",
       "4095                 401.769072                  1.96  \n",
       "4096                 398.775261                  1.71  \n",
       "\n",
       "[4097 rows x 22 columns]"
      ]
     },
     "execution_count": 19,
     "metadata": {},
     "output_type": "execute_result"
    }
   ],
   "source": [
    "data = pd.read_csv(path+'MiningProcess_Flotation_Plant_Database_hourly.csv', index_col=0)\n",
    "data = data.drop(['time_idx', 'hour', '% Iron Concentrate'],axis=1)\n",
    "data"
   ]
  },
  {
   "cell_type": "code",
   "execution_count": 20,
   "metadata": {},
   "outputs": [],
   "source": [
    "A = data.drop(['% Silica Concentrate'], axis = 1)\n",
    "B = data[['% Silica Concentrate']]"
   ]
  },
  {
   "cell_type": "code",
   "execution_count": 21,
   "metadata": {},
   "outputs": [],
   "source": [
    "A_2 = A.drop(A.index[-1:], axis=0)\n",
    "B_2 = B.drop(B.index[:1], axis=0)\n",
    "B_3 = B_2.reset_index(drop=True)\n",
    "df = pd.concat([A_2,B_3], axis=1 )"
   ]
  },
  {
   "cell_type": "markdown",
   "metadata": {},
   "source": [
    "# Size 4096"
   ]
  },
  {
   "cell_type": "code",
   "execution_count": 22,
   "metadata": {},
   "outputs": [],
   "source": [
    "train = df[:4032]\n",
    "test = df[4032:]"
   ]
  },
  {
   "cell_type": "code",
   "execution_count": 23,
   "metadata": {},
   "outputs": [],
   "source": [
    "from sklearn.pipeline import Pipeline\n",
    "from feature_engine.selection import DropConstantFeatures, DropDuplicateFeatures,SmartCorrelatedSelection\n",
    "\n",
    "\n",
    "pip = Pipeline([('constant', DropConstantFeatures(tol=0.90)), ('duplicate', DropDuplicateFeatures()), ('correlated', SmartCorrelatedSelection(threshold=0.8))])\n",
    "train_pro = pip.fit_transform(train.drop(['% Silica Concentrate'], axis=1))\n",
    "train_pro['% Silica Concentrate'] = train['% Silica Concentrate']"
   ]
  },
  {
   "cell_type": "code",
   "execution_count": 24,
   "metadata": {},
   "outputs": [],
   "source": [
    "columns = train_pro.columns\n",
    "test_pro = test[columns]\n",
    "test_pro['% Silica Concentrate'] = test['% Silica Concentrate']\n",
    "    "
   ]
  },
  {
   "cell_type": "code",
   "execution_count": 25,
   "metadata": {
    "scrolled": true
   },
   "outputs": [
    {
     "data": {
      "text/plain": [
       "[0.5016390965170712]"
      ]
     },
     "execution_count": 25,
     "metadata": {},
     "output_type": "execute_result"
    }
   ],
   "source": [
    "error =[]\n",
    "VAR_model = sm.tsa.VAR(train_pro)\n",
    "results = VAR_model.fit(1)\n",
    "forecast = results.forecast(train_pro.values[-1:], 64)\n",
    "    \n",
    "a= 0\n",
    "for j in range(64) :\n",
    "    a += (abs(forecast[j][-1] - test_pro['% Silica Concentrate'].iloc[j]))\n",
    "    \n",
    "error.append(a/64)\n",
    "    \n",
    "error"
   ]
  },
  {
   "cell_type": "code",
   "execution_count": 26,
   "metadata": {
    "scrolled": true
   },
   "outputs": [
    {
     "data": {
      "text/plain": [
       "0.5016390965170712"
      ]
     },
     "execution_count": 26,
     "metadata": {},
     "output_type": "execute_result"
    }
   ],
   "source": [
    "sum(error)/len(error)"
   ]
  },
  {
   "cell_type": "markdown",
   "metadata": {},
   "source": [
    "# Size 2048"
   ]
  },
  {
   "cell_type": "code",
   "execution_count": 27,
   "metadata": {},
   "outputs": [],
   "source": [
    "batc = []\n",
    "\n",
    "for i in range(2) :\n",
    "    batc.append(data[(data.index <= 2048*(i+1) ) & (data.index >= 2048*i)])"
   ]
  },
  {
   "cell_type": "code",
   "execution_count": 28,
   "metadata": {},
   "outputs": [],
   "source": [
    "batch = [0 for i in range(2)]\n",
    "\n",
    "for i in range(2) :\n",
    "    X = batc[i].drop(['% Silica Concentrate'], axis = 1)\n",
    "    Y = batc[i][['% Silica Concentrate']]\n",
    "    X_2 = X.drop(X.index[-1:], axis=0)\n",
    "    X_3 = X_2.reset_index(drop=True)\n",
    "    Y_2 = Y.drop(Y.index[:1], axis=0)\n",
    "    Y_3 = Y_2.reset_index(drop=True)\n",
    "    batch[i] = pd.concat([X_3,Y_3], axis=1 )"
   ]
  },
  {
   "cell_type": "code",
   "execution_count": 29,
   "metadata": {},
   "outputs": [],
   "source": [
    "train = []\n",
    "test = []\n",
    "\n",
    "for i in range(2) :\n",
    "    train.append(batch[i][:2016])\n",
    "    test.append(batch[i][2016:])"
   ]
  },
  {
   "cell_type": "code",
   "execution_count": 30,
   "metadata": {},
   "outputs": [],
   "source": [
    "from sklearn.pipeline import Pipeline\n",
    "from feature_engine.selection import DropConstantFeatures, DropDuplicateFeatures,SmartCorrelatedSelection\n",
    "\n",
    "train_pro=[]\n",
    "\n",
    "for i in range(2) :\n",
    "    pip = Pipeline([('constant', DropConstantFeatures(tol=0.90)), ('duplicate', DropDuplicateFeatures()), ('correlated', SmartCorrelatedSelection(threshold=0.8))])\n",
    "    a = pip.fit_transform(train[i].drop(['% Silica Concentrate'], axis=1))\n",
    "    train_pro.append(a)\n",
    "    train_pro[i]['% Silica Concentrate'] = train[i]['% Silica Concentrate']"
   ]
  },
  {
   "cell_type": "code",
   "execution_count": 31,
   "metadata": {},
   "outputs": [],
   "source": [
    "test_pro = [0 for i in range(2)]\n",
    "\n",
    "for i in range(2) :\n",
    "    columns = train_pro[i].columns\n",
    "    test_pro[i] = test[i][columns]\n",
    "    test_pro[i]['% Silica Concentrate'] = test[i]['% Silica Concentrate']\n",
    "    "
   ]
  },
  {
   "cell_type": "code",
   "execution_count": 32,
   "metadata": {
    "scrolled": true
   },
   "outputs": [
    {
     "data": {
      "text/plain": [
       "[0.7210267678651082, 0.5815933812860486]"
      ]
     },
     "execution_count": 32,
     "metadata": {},
     "output_type": "execute_result"
    }
   ],
   "source": [
    "error = []\n",
    "\n",
    "for i in range(2) :\n",
    "    VAR_model = sm.tsa.VAR(train_pro[i])\n",
    "    results = VAR_model.fit(1)\n",
    "    forecast = results.forecast(train_pro[i].values[-1:], 32)\n",
    "    \n",
    "    a= 0\n",
    "    for j in range(32) :\n",
    "        a += (abs(forecast[j][-1] - test_pro[i]['% Silica Concentrate'].iloc[j]))\n",
    "    error.append(a/32)\n",
    "    \n",
    "error"
   ]
  },
  {
   "cell_type": "code",
   "execution_count": 33,
   "metadata": {
    "scrolled": false
   },
   "outputs": [
    {
     "data": {
      "text/plain": [
       "0.6513100745755784"
      ]
     },
     "execution_count": 33,
     "metadata": {},
     "output_type": "execute_result"
    }
   ],
   "source": [
    "sum(error)/len(error)"
   ]
  },
  {
   "cell_type": "markdown",
   "metadata": {},
   "source": [
    "# Size 1024"
   ]
  },
  {
   "cell_type": "code",
   "execution_count": 34,
   "metadata": {},
   "outputs": [],
   "source": [
    "batc = []\n",
    "\n",
    "for i in range(4) :\n",
    "    batc.append(data[(data.index <= 1024*(i+1) ) & (data.index >= 1024*i)])"
   ]
  },
  {
   "cell_type": "code",
   "execution_count": 35,
   "metadata": {},
   "outputs": [],
   "source": [
    "batch = [0 for i in range(4)]\n",
    "\n",
    "for i in range(4) :\n",
    "    X = batc[i].drop(['% Silica Concentrate'], axis = 1)\n",
    "    Y = batc[i][['% Silica Concentrate']]\n",
    "    X_2 = X.drop(X.index[-1:], axis=0)\n",
    "    X_3 = X_2.reset_index(drop=True)\n",
    "    Y_2 = Y.drop(Y.index[:1], axis=0)\n",
    "    Y_3 = Y_2.reset_index(drop=True)\n",
    "    batch[i] = pd.concat([X_3,Y_3], axis=1 )"
   ]
  },
  {
   "cell_type": "code",
   "execution_count": 36,
   "metadata": {},
   "outputs": [],
   "source": [
    "train = []\n",
    "test = []\n",
    "\n",
    "for i in range(4) :\n",
    "    train.append(batch[i][:1008])\n",
    "    test.append(batch[i][1008:])"
   ]
  },
  {
   "cell_type": "code",
   "execution_count": 37,
   "metadata": {},
   "outputs": [],
   "source": [
    "from sklearn.pipeline import Pipeline\n",
    "from feature_engine.selection import DropConstantFeatures, DropDuplicateFeatures,SmartCorrelatedSelection\n",
    "\n",
    "train_pro=[]\n",
    "\n",
    "for i in range(4) :\n",
    "    pip = Pipeline([('constant', DropConstantFeatures(tol=0.90)), ('duplicate', DropDuplicateFeatures()), ('correlated', SmartCorrelatedSelection(threshold=0.8))])\n",
    "    a = pip.fit_transform(train[i].drop(['% Silica Concentrate'], axis=1))\n",
    "    train_pro.append(a)\n",
    "    train_pro[i]['% Silica Concentrate'] = train[i]['% Silica Concentrate']"
   ]
  },
  {
   "cell_type": "code",
   "execution_count": 38,
   "metadata": {},
   "outputs": [],
   "source": [
    "test_pro = [0 for i in range(4)]\n",
    "\n",
    "for i in range(4) :\n",
    "    columns = train_pro[i].columns\n",
    "    test_pro[i] = test[i][columns]\n",
    "    test_pro[i]['% Silica Concentrate'] = test[i]['% Silica Concentrate']\n",
    "    "
   ]
  },
  {
   "cell_type": "code",
   "execution_count": 39,
   "metadata": {
    "scrolled": true
   },
   "outputs": [
    {
     "data": {
      "text/plain": [
       "[0.7517950616278205,\n",
       " 0.2902952847240423,\n",
       " 1.1742546061135593,\n",
       " 0.37507151098529584]"
      ]
     },
     "execution_count": 39,
     "metadata": {},
     "output_type": "execute_result"
    }
   ],
   "source": [
    "error = []\n",
    "\n",
    "for i in range(4) :\n",
    "    VAR_model = sm.tsa.VAR(train_pro[i])\n",
    "    results = VAR_model.fit(1)\n",
    "    forecast = results.forecast(train_pro[i].values[-1:], 16)\n",
    "    \n",
    "    a= 0\n",
    "    for j in range(16) :\n",
    "        a += (abs(forecast[j][-1] - test_pro[i]['% Silica Concentrate'].iloc[j]))\n",
    "    error.append(a/16)\n",
    "    \n",
    "error"
   ]
  },
  {
   "cell_type": "code",
   "execution_count": 40,
   "metadata": {
    "scrolled": false
   },
   "outputs": [
    {
     "data": {
      "text/plain": [
       "0.6478541158626795"
      ]
     },
     "execution_count": 40,
     "metadata": {},
     "output_type": "execute_result"
    }
   ],
   "source": [
    "sum(error)/len(error)"
   ]
  },
  {
   "cell_type": "markdown",
   "metadata": {},
   "source": [
    "# Size 512"
   ]
  },
  {
   "cell_type": "code",
   "execution_count": 41,
   "metadata": {},
   "outputs": [],
   "source": [
    "batc = []\n",
    "\n",
    "for i in range(8) :\n",
    "    batc.append(data[(data.index <= 512*(i+1) ) & (data.index >= 512*i)])"
   ]
  },
  {
   "cell_type": "code",
   "execution_count": 42,
   "metadata": {},
   "outputs": [],
   "source": [
    "batch = [0 for i in range(8)]\n",
    "\n",
    "for i in range(8) :\n",
    "    X = batc[i].drop(['% Silica Concentrate'], axis = 1)\n",
    "    Y = batc[i][['% Silica Concentrate']]\n",
    "    X_2 = X.drop(X.index[-1:], axis=0)\n",
    "    X_3 = X_2.reset_index(drop=True)\n",
    "    Y_2 = Y.drop(Y.index[:1], axis=0)\n",
    "    Y_3 = Y_2.reset_index(drop=True)\n",
    "    batch[i] = pd.concat([X_3,Y_3], axis=1 )"
   ]
  },
  {
   "cell_type": "code",
   "execution_count": 43,
   "metadata": {},
   "outputs": [],
   "source": [
    "train = []\n",
    "test = []\n",
    "\n",
    "for i in range(8) :\n",
    "    train.append(batch[i][:504])\n",
    "    test.append(batch[i][504:])"
   ]
  },
  {
   "cell_type": "code",
   "execution_count": 44,
   "metadata": {},
   "outputs": [],
   "source": [
    "from sklearn.pipeline import Pipeline\n",
    "from feature_engine.selection import DropConstantFeatures, DropDuplicateFeatures,SmartCorrelatedSelection\n",
    "\n",
    "train_pro=[]\n",
    "\n",
    "for i in range(8) :\n",
    "    pip = Pipeline([('constant', DropConstantFeatures(tol=0.90)), ('duplicate', DropDuplicateFeatures()), ('correlated', SmartCorrelatedSelection(threshold=0.8))])\n",
    "    a = pip.fit_transform(train[i].drop(['% Silica Concentrate'], axis=1))\n",
    "    train_pro.append(a)\n",
    "    train_pro[i]['% Silica Concentrate'] = train[i]['% Silica Concentrate']"
   ]
  },
  {
   "cell_type": "code",
   "execution_count": 45,
   "metadata": {},
   "outputs": [],
   "source": [
    "test_pro = [0 for i in range(8)]\n",
    "\n",
    "for i in range(8) :\n",
    "    columns = train_pro[i].columns\n",
    "    test_pro[i] = test[i][columns]\n",
    "    test_pro[i]['% Silica Concentrate'] = test[i]['% Silica Concentrate']\n",
    "    "
   ]
  },
  {
   "cell_type": "code",
   "execution_count": 46,
   "metadata": {
    "scrolled": true
   },
   "outputs": [
    {
     "data": {
      "text/plain": [
       "[0.667331970504103,\n",
       " 0.7334049305512231,\n",
       " 0.7735419260698279,\n",
       " 0.25376812135192917,\n",
       " 0.7093293846017079,\n",
       " 0.8588572755886824,\n",
       " 0.7760431922239461,\n",
       " 0.6394180491501408]"
      ]
     },
     "execution_count": 46,
     "metadata": {},
     "output_type": "execute_result"
    }
   ],
   "source": [
    "error = []\n",
    "\n",
    "for i in range(8) :\n",
    "    VAR_model = sm.tsa.VAR(train_pro[i])\n",
    "    results = VAR_model.fit(1)\n",
    "    forecast = results.forecast(train_pro[i].values[-1:], 8)\n",
    "    \n",
    "    a= 0\n",
    "    for j in range(8) :\n",
    "        a += (abs(forecast[j][-1] - test_pro[i]['% Silica Concentrate'].iloc[j]))\n",
    "    error.append(a/8)\n",
    "    \n",
    "error"
   ]
  },
  {
   "cell_type": "code",
   "execution_count": 47,
   "metadata": {
    "scrolled": true
   },
   "outputs": [
    {
     "data": {
      "text/plain": [
       "0.6764618562551951"
      ]
     },
     "execution_count": 47,
     "metadata": {},
     "output_type": "execute_result"
    }
   ],
   "source": [
    "sum(error)/len(error)"
   ]
  },
  {
   "cell_type": "markdown",
   "metadata": {},
   "source": [
    "# Size 256"
   ]
  },
  {
   "cell_type": "code",
   "execution_count": 48,
   "metadata": {},
   "outputs": [],
   "source": [
    "batc = []\n",
    "\n",
    "for i in range(16) :\n",
    "    batc.append(data[(data.index <= 256*(i+1) ) & (data.index >= 256*i)])"
   ]
  },
  {
   "cell_type": "code",
   "execution_count": 49,
   "metadata": {},
   "outputs": [],
   "source": [
    "batch = [0 for i in range(16)]\n",
    "\n",
    "for i in range(16) :\n",
    "    X = batc[i].drop(['% Silica Concentrate'], axis = 1)\n",
    "    Y = batc[i][['% Silica Concentrate']]\n",
    "    X_2 = X.drop(X.index[-1:], axis=0)\n",
    "    X_3 = X_2.reset_index(drop=True)\n",
    "    Y_2 = Y.drop(Y.index[:1], axis=0)\n",
    "    Y_3 = Y_2.reset_index(drop=True)\n",
    "    batch[i] = pd.concat([X_3,Y_3], axis=1 )"
   ]
  },
  {
   "cell_type": "code",
   "execution_count": 50,
   "metadata": {},
   "outputs": [],
   "source": [
    "train = []\n",
    "test = []\n",
    "\n",
    "for i in range(16) :\n",
    "    train.append(batch[i][:252])\n",
    "    test.append(batch[i][252:])"
   ]
  },
  {
   "cell_type": "code",
   "execution_count": 51,
   "metadata": {},
   "outputs": [],
   "source": [
    "from sklearn.pipeline import Pipeline\n",
    "from feature_engine.selection import DropConstantFeatures, DropDuplicateFeatures,SmartCorrelatedSelection\n",
    "\n",
    "train_pro=[]\n",
    "\n",
    "for i in range(16) :\n",
    "    pip = Pipeline([('constant', DropConstantFeatures(tol=0.90)), ('duplicate', DropDuplicateFeatures()), ('correlated', SmartCorrelatedSelection(threshold=0.8))])\n",
    "    a = pip.fit_transform(train[i].drop(['% Silica Concentrate'], axis=1))\n",
    "    train_pro.append(a)\n",
    "    train_pro[i]['% Silica Concentrate'] = train[i]['% Silica Concentrate']"
   ]
  },
  {
   "cell_type": "code",
   "execution_count": 52,
   "metadata": {},
   "outputs": [],
   "source": [
    "test_pro = [0 for i in range(16)]\n",
    "\n",
    "for i in range(16) :\n",
    "    columns = train_pro[i].columns\n",
    "    test_pro[i] = test[i][columns]\n",
    "    test_pro[i]['% Silica Concentrate'] = test[i]['% Silica Concentrate']\n",
    "    "
   ]
  },
  {
   "cell_type": "code",
   "execution_count": 53,
   "metadata": {
    "scrolled": true
   },
   "outputs": [
    {
     "data": {
      "text/plain": [
       "[0.7588692856502232,\n",
       " 0.5758279330827402,\n",
       " 0.17422432111756625,\n",
       " 0.9470243974710877,\n",
       " 0.5049323463972796,\n",
       " 0.12076840795101929,\n",
       " 1.4585873611663653,\n",
       " 0.15066258638099378,\n",
       " 0.6756814310608223,\n",
       " 2.629760605062894,\n",
       " 0.18288279487065007,\n",
       " 1.2039687999997877,\n",
       " 0.3369364318122243,\n",
       " 0.994147021998484,\n",
       " 0.8068629852927021,\n",
       " 0.33388816041197467]"
      ]
     },
     "execution_count": 53,
     "metadata": {},
     "output_type": "execute_result"
    }
   ],
   "source": [
    "error = []\n",
    "\n",
    "for i in range(16) :\n",
    "    VAR_model = sm.tsa.VAR(train_pro[i])\n",
    "    results = VAR_model.fit(1)\n",
    "    forecast = results.forecast(train_pro[i].values[-1:], 4)\n",
    "    \n",
    "    a= 0\n",
    "    for j in range(4) :\n",
    "        a += (abs(forecast[j][-1] - test_pro[i]['% Silica Concentrate'].iloc[j]))\n",
    "    error.append(a/4)\n",
    "    \n",
    "error"
   ]
  },
  {
   "cell_type": "code",
   "execution_count": 54,
   "metadata": {
    "scrolled": true
   },
   "outputs": [
    {
     "data": {
      "text/plain": [
       "0.740939054357926"
      ]
     },
     "execution_count": 54,
     "metadata": {},
     "output_type": "execute_result"
    }
   ],
   "source": [
    "sum(error)/len(error)"
   ]
  },
  {
   "cell_type": "markdown",
   "metadata": {},
   "source": [
    "# Size128"
   ]
  },
  {
   "cell_type": "code",
   "execution_count": 55,
   "metadata": {},
   "outputs": [],
   "source": [
    "batc = []\n",
    "\n",
    "for i in range(32) :\n",
    "    batc.append(data[(data.index <= 128*(i+1) ) & (data.index >= 128*i)])"
   ]
  },
  {
   "cell_type": "code",
   "execution_count": 56,
   "metadata": {},
   "outputs": [],
   "source": [
    "batch = [0 for i in range(32)]\n",
    "\n",
    "for i in range(32) :\n",
    "    X = batc[i].drop(['% Silica Concentrate'], axis = 1)\n",
    "    Y = batc[i][['% Silica Concentrate']]\n",
    "    X_2 = X.drop(X.index[-1:], axis=0)\n",
    "    X_3 = X_2.reset_index(drop=True)\n",
    "    Y_2 = Y.drop(Y.index[:1], axis=0)\n",
    "    Y_3 = Y_2.reset_index(drop=True)\n",
    "    batch[i] = pd.concat([X_3,Y_3], axis=1 )"
   ]
  },
  {
   "cell_type": "code",
   "execution_count": 57,
   "metadata": {},
   "outputs": [],
   "source": [
    "train = []\n",
    "test = []\n",
    "\n",
    "for i in range(32) :\n",
    "    train.append(batch[i][:126])\n",
    "    test.append(batch[i][126:])"
   ]
  },
  {
   "cell_type": "code",
   "execution_count": 58,
   "metadata": {},
   "outputs": [],
   "source": [
    "from sklearn.pipeline import Pipeline\n",
    "from feature_engine.selection import DropConstantFeatures, DropDuplicateFeatures,SmartCorrelatedSelection\n",
    "\n",
    "train_pro=[]\n",
    "\n",
    "for i in range(32) :\n",
    "    pip = Pipeline([('constant', DropConstantFeatures(tol=0.90)), ('duplicate', DropDuplicateFeatures()), ('correlated', SmartCorrelatedSelection(threshold=0.8))])\n",
    "    a = pip.fit_transform(train[i].drop(['% Silica Concentrate'], axis=1))\n",
    "    train_pro.append(a)\n",
    "    train_pro[i]['% Silica Concentrate'] = train[i]['% Silica Concentrate']"
   ]
  },
  {
   "cell_type": "code",
   "execution_count": 59,
   "metadata": {},
   "outputs": [],
   "source": [
    "test_pro = [0 for i in range(32)]\n",
    "\n",
    "for i in range(32) :\n",
    "    columns = train_pro[i].columns\n",
    "    test_pro[i] = test[i][columns]\n",
    "    test_pro[i]['% Silica Concentrate'] = test[i]['% Silica Concentrate']\n",
    "    "
   ]
  },
  {
   "cell_type": "code",
   "execution_count": 60,
   "metadata": {
    "scrolled": true
   },
   "outputs": [
    {
     "data": {
      "text/plain": [
       "[0.4044749599918225,\n",
       " 0.6272813192522686,\n",
       " 0.45384037150249834,\n",
       " 0.38020877126596897,\n",
       " 0.5941708900204254,\n",
       " 0.15732389351886722,\n",
       " 0.4867485826393698,\n",
       " 0.14968421135189647,\n",
       " 0.8260609030558888,\n",
       " 0.7431408011888019,\n",
       " 0.47339053509832185,\n",
       " 0.18965768972660413,\n",
       " 0.04249806827610403,\n",
       " 0.804391532373494,\n",
       " 0.32902732743118657,\n",
       " 0.10521758878244247,\n",
       " 0.5411414582225831,\n",
       " 0.8296751673616746,\n",
       " 0.5187189824834039,\n",
       " 0.7981034825799765,\n",
       " 0.11492615448904542,\n",
       " 0.2293011735145295,\n",
       " 0.2478782258684734,\n",
       " 1.665381213899621,\n",
       " 0.10630062198468959,\n",
       " 0.22061806758577518,\n",
       " 0.11766432969553642,\n",
       " 1.9450691904746853,\n",
       " 0.048399462993863884,\n",
       " 0.8767765827427412,\n",
       " 0.3832943862709437,\n",
       " 0.25901156409608017]"
      ]
     },
     "execution_count": 60,
     "metadata": {},
     "output_type": "execute_result"
    }
   ],
   "source": [
    "error = []\n",
    "\n",
    "for i in range(32) :\n",
    "    VAR_model = sm.tsa.VAR(train_pro[i])\n",
    "    results = VAR_model.fit(1)\n",
    "    forecast = results.forecast(train_pro[i].values[-1:], 2)\n",
    "    \n",
    "    a= 0\n",
    "    for j in range(2) :\n",
    "        a += (abs(forecast[j][-1] - test_pro[i]['% Silica Concentrate'].iloc[j]))\n",
    "    error.append(a/2)\n",
    "    \n",
    "error"
   ]
  },
  {
   "cell_type": "code",
   "execution_count": 61,
   "metadata": {
    "scrolled": true
   },
   "outputs": [
    {
     "data": {
      "text/plain": [
       "0.4896680471793621"
      ]
     },
     "execution_count": 61,
     "metadata": {},
     "output_type": "execute_result"
    }
   ],
   "source": [
    "sum(error)/len(error)"
   ]
  },
  {
   "cell_type": "markdown",
   "metadata": {},
   "source": [
    "# Size64"
   ]
  },
  {
   "cell_type": "code",
   "execution_count": 62,
   "metadata": {},
   "outputs": [],
   "source": [
    "batc = []\n",
    "\n",
    "for i in range(64) :\n",
    "    batc.append(data[(data.index <= 64*(i+1) ) & (data.index >= 64*i)])"
   ]
  },
  {
   "cell_type": "code",
   "execution_count": 63,
   "metadata": {},
   "outputs": [],
   "source": [
    "batch = [0 for i in range(64)]\n",
    "\n",
    "for i in range(64) :\n",
    "    X = batc[i].drop(['% Silica Concentrate'], axis = 1)\n",
    "    Y = batc[i][['% Silica Concentrate']]\n",
    "    X_2 = X.drop(X.index[-1:], axis=0)\n",
    "    X_3 = X_2.reset_index(drop=True)\n",
    "    Y_2 = Y.drop(Y.index[:1], axis=0)\n",
    "    Y_3 = Y_2.reset_index(drop=True)\n",
    "    batch[i] = pd.concat([X_3,Y_3], axis=1 )"
   ]
  },
  {
   "cell_type": "code",
   "execution_count": 64,
   "metadata": {},
   "outputs": [],
   "source": [
    "train = []\n",
    "test = []\n",
    "\n",
    "for i in range(64) :\n",
    "    train.append(batch[i][:62])\n",
    "    test.append(batch[i][62:])"
   ]
  },
  {
   "cell_type": "code",
   "execution_count": 65,
   "metadata": {},
   "outputs": [],
   "source": [
    "from sklearn.pipeline import Pipeline\n",
    "from feature_engine.selection import DropConstantFeatures, DropDuplicateFeatures,SmartCorrelatedSelection\n",
    "\n",
    "train_pro=[]\n",
    "\n",
    "for i in range(64) :\n",
    "    pip = Pipeline([('constant', DropConstantFeatures(tol=0.90)), ('duplicate', DropDuplicateFeatures()), ('correlated', SmartCorrelatedSelection(threshold=0.8))])\n",
    "    a = pip.fit_transform(train[i].drop(['% Silica Concentrate'], axis=1))\n",
    "    train_pro.append(a)\n",
    "    train_pro[i]['% Silica Concentrate'] = train[i]['% Silica Concentrate']"
   ]
  },
  {
   "cell_type": "code",
   "execution_count": 66,
   "metadata": {},
   "outputs": [],
   "source": [
    "test_pro = [0 for i in range(64)]\n",
    "\n",
    "for i in range(64) :\n",
    "    columns = train_pro[i].columns\n",
    "    test_pro[i] = test[i][columns]\n",
    "    test_pro[i]['% Silica Concentrate'] = test[i]['% Silica Concentrate']\n",
    "    "
   ]
  },
  {
   "cell_type": "code",
   "execution_count": 67,
   "metadata": {
    "scrolled": true
   },
   "outputs": [
    {
     "ename": "ValueError",
     "evalue": "x contains one or more constant columns. Column(s) 11 are constant. Adding a constant with trend='c' is not allowed.",
     "output_type": "error",
     "traceback": [
      "\u001b[0;31m---------------------------------------------------------------------------\u001b[0m",
      "\u001b[0;31mValueError\u001b[0m                                Traceback (most recent call last)",
      "Cell \u001b[0;32mIn[67], line 6\u001b[0m\n\u001b[1;32m      4\u001b[0m \u001b[38;5;28;01mfor\u001b[39;00m i \u001b[38;5;129;01min\u001b[39;00m \u001b[38;5;28mrange\u001b[39m(\u001b[38;5;241m64\u001b[39m) :\n\u001b[1;32m      5\u001b[0m     VAR_model \u001b[38;5;241m=\u001b[39m sm\u001b[38;5;241m.\u001b[39mtsa\u001b[38;5;241m.\u001b[39mVAR(train_pro[i])\n\u001b[0;32m----> 6\u001b[0m     results \u001b[38;5;241m=\u001b[39m \u001b[43mVAR_model\u001b[49m\u001b[38;5;241;43m.\u001b[39;49m\u001b[43mfit\u001b[49m\u001b[43m(\u001b[49m\u001b[38;5;241;43m1\u001b[39;49m\u001b[43m)\u001b[49m\n\u001b[1;32m      7\u001b[0m     forecast \u001b[38;5;241m=\u001b[39m results\u001b[38;5;241m.\u001b[39mforecast(train_pro[i]\u001b[38;5;241m.\u001b[39mvalues[\u001b[38;5;241m-\u001b[39m\u001b[38;5;241m1\u001b[39m:], \u001b[38;5;241m2\u001b[39m)\n\u001b[1;32m      9\u001b[0m     a\u001b[38;5;241m=\u001b[39m \u001b[38;5;241m0\u001b[39m\n",
      "File \u001b[0;32m~/anaconda3/envs/jwj/lib/python3.8/site-packages/statsmodels/tsa/vector_ar/var_model.py:695\u001b[0m, in \u001b[0;36mVAR.fit\u001b[0;34m(self, maxlags, method, ic, trend, verbose)\u001b[0m\n\u001b[1;32m    687\u001b[0m     \u001b[38;5;28mself\u001b[39m\u001b[38;5;241m.\u001b[39mdata\u001b[38;5;241m.\u001b[39mxnames \u001b[38;5;241m=\u001b[39m (\n\u001b[1;32m    688\u001b[0m         \u001b[38;5;28mself\u001b[39m\u001b[38;5;241m.\u001b[39mdata\u001b[38;5;241m.\u001b[39mxnames[:k_trend]\n\u001b[1;32m    689\u001b[0m         \u001b[38;5;241m+\u001b[39m x_names_to_add\n\u001b[1;32m    690\u001b[0m         \u001b[38;5;241m+\u001b[39m \u001b[38;5;28mself\u001b[39m\u001b[38;5;241m.\u001b[39mdata\u001b[38;5;241m.\u001b[39mxnames[k_trend:]\n\u001b[1;32m    691\u001b[0m     )\n\u001b[1;32m    692\u001b[0m \u001b[38;5;28mself\u001b[39m\u001b[38;5;241m.\u001b[39mdata\u001b[38;5;241m.\u001b[39mcov_names \u001b[38;5;241m=\u001b[39m pd\u001b[38;5;241m.\u001b[39mMultiIndex\u001b[38;5;241m.\u001b[39mfrom_product(\n\u001b[1;32m    693\u001b[0m     (\u001b[38;5;28mself\u001b[39m\u001b[38;5;241m.\u001b[39mdata\u001b[38;5;241m.\u001b[39mxnames, \u001b[38;5;28mself\u001b[39m\u001b[38;5;241m.\u001b[39mdata\u001b[38;5;241m.\u001b[39mynames)\n\u001b[1;32m    694\u001b[0m )\n\u001b[0;32m--> 695\u001b[0m \u001b[38;5;28;01mreturn\u001b[39;00m \u001b[38;5;28;43mself\u001b[39;49m\u001b[38;5;241;43m.\u001b[39;49m\u001b[43m_estimate_var\u001b[49m\u001b[43m(\u001b[49m\u001b[43mlags\u001b[49m\u001b[43m,\u001b[49m\u001b[43m \u001b[49m\u001b[43mtrend\u001b[49m\u001b[38;5;241;43m=\u001b[39;49m\u001b[43mtrend\u001b[49m\u001b[43m)\u001b[49m\n",
      "File \u001b[0;32m~/anaconda3/envs/jwj/lib/python3.8/site-packages/statsmodels/tsa/vector_ar/var_model.py:716\u001b[0m, in \u001b[0;36mVAR._estimate_var\u001b[0;34m(self, lags, offset, trend)\u001b[0m\n\u001b[1;32m    714\u001b[0m endog \u001b[38;5;241m=\u001b[39m \u001b[38;5;28mself\u001b[39m\u001b[38;5;241m.\u001b[39mendog[offset:]\n\u001b[1;32m    715\u001b[0m exog \u001b[38;5;241m=\u001b[39m \u001b[38;5;28;01mNone\u001b[39;00m \u001b[38;5;28;01mif\u001b[39;00m \u001b[38;5;28mself\u001b[39m\u001b[38;5;241m.\u001b[39mexog \u001b[38;5;129;01mis\u001b[39;00m \u001b[38;5;28;01mNone\u001b[39;00m \u001b[38;5;28;01melse\u001b[39;00m \u001b[38;5;28mself\u001b[39m\u001b[38;5;241m.\u001b[39mexog[offset:]\n\u001b[0;32m--> 716\u001b[0m z \u001b[38;5;241m=\u001b[39m \u001b[43mutil\u001b[49m\u001b[38;5;241;43m.\u001b[39;49m\u001b[43mget_var_endog\u001b[49m\u001b[43m(\u001b[49m\u001b[43mendog\u001b[49m\u001b[43m,\u001b[49m\u001b[43m \u001b[49m\u001b[43mlags\u001b[49m\u001b[43m,\u001b[49m\u001b[43m \u001b[49m\u001b[43mtrend\u001b[49m\u001b[38;5;241;43m=\u001b[39;49m\u001b[43mtrend\u001b[49m\u001b[43m,\u001b[49m\u001b[43m \u001b[49m\u001b[43mhas_constant\u001b[49m\u001b[38;5;241;43m=\u001b[39;49m\u001b[38;5;124;43m\"\u001b[39;49m\u001b[38;5;124;43mraise\u001b[39;49m\u001b[38;5;124;43m\"\u001b[39;49m\u001b[43m)\u001b[49m\n\u001b[1;32m    717\u001b[0m \u001b[38;5;28;01mif\u001b[39;00m exog \u001b[38;5;129;01mis\u001b[39;00m \u001b[38;5;129;01mnot\u001b[39;00m \u001b[38;5;28;01mNone\u001b[39;00m:\n\u001b[1;32m    718\u001b[0m     \u001b[38;5;66;03m# TODO: currently only deterministic terms supported (exoglags==0)\u001b[39;00m\n\u001b[1;32m    719\u001b[0m     \u001b[38;5;66;03m# and since exoglags==0, x will be an array of size 0.\u001b[39;00m\n\u001b[1;32m    720\u001b[0m     x \u001b[38;5;241m=\u001b[39m util\u001b[38;5;241m.\u001b[39mget_var_endog(\n\u001b[1;32m    721\u001b[0m         exog[\u001b[38;5;241m-\u001b[39mnobs:], \u001b[38;5;241m0\u001b[39m, trend\u001b[38;5;241m=\u001b[39m\u001b[38;5;124m\"\u001b[39m\u001b[38;5;124mn\u001b[39m\u001b[38;5;124m\"\u001b[39m, has_constant\u001b[38;5;241m=\u001b[39m\u001b[38;5;124m\"\u001b[39m\u001b[38;5;124mraise\u001b[39m\u001b[38;5;124m\"\u001b[39m\n\u001b[1;32m    722\u001b[0m     )\n",
      "File \u001b[0;32m~/anaconda3/envs/jwj/lib/python3.8/site-packages/statsmodels/tsa/vector_ar/util.py:35\u001b[0m, in \u001b[0;36mget_var_endog\u001b[0;34m(y, lags, trend, has_constant)\u001b[0m\n\u001b[1;32m     33\u001b[0m \u001b[38;5;66;03m# Add constant, trend, etc.\u001b[39;00m\n\u001b[1;32m     34\u001b[0m \u001b[38;5;28;01mif\u001b[39;00m trend \u001b[38;5;241m!=\u001b[39m \u001b[38;5;124m'\u001b[39m\u001b[38;5;124mn\u001b[39m\u001b[38;5;124m'\u001b[39m:\n\u001b[0;32m---> 35\u001b[0m     Z \u001b[38;5;241m=\u001b[39m \u001b[43mtsa\u001b[49m\u001b[38;5;241;43m.\u001b[39;49m\u001b[43madd_trend\u001b[49m\u001b[43m(\u001b[49m\u001b[43mZ\u001b[49m\u001b[43m,\u001b[49m\u001b[43m \u001b[49m\u001b[43mprepend\u001b[49m\u001b[38;5;241;43m=\u001b[39;49m\u001b[38;5;28;43;01mTrue\u001b[39;49;00m\u001b[43m,\u001b[49m\u001b[43m \u001b[49m\u001b[43mtrend\u001b[49m\u001b[38;5;241;43m=\u001b[39;49m\u001b[43mtrend\u001b[49m\u001b[43m,\u001b[49m\n\u001b[1;32m     36\u001b[0m \u001b[43m                      \u001b[49m\u001b[43mhas_constant\u001b[49m\u001b[38;5;241;43m=\u001b[39;49m\u001b[43mhas_constant\u001b[49m\u001b[43m)\u001b[49m\n\u001b[1;32m     38\u001b[0m \u001b[38;5;28;01mreturn\u001b[39;00m Z\n",
      "File \u001b[0;32m~/anaconda3/envs/jwj/lib/python3.8/site-packages/statsmodels/tsa/tsatools.py:152\u001b[0m, in \u001b[0;36madd_trend\u001b[0;34m(x, trend, prepend, has_constant)\u001b[0m\n\u001b[1;32m    147\u001b[0m         base_err \u001b[38;5;241m=\u001b[39m (\n\u001b[1;32m    148\u001b[0m             \u001b[38;5;124m\"\u001b[39m\u001b[38;5;124mx contains one or more constant columns. Column(s) \u001b[39m\u001b[38;5;124m\"\u001b[39m\n\u001b[1;32m    149\u001b[0m             \u001b[38;5;124mf\u001b[39m\u001b[38;5;124m\"\u001b[39m\u001b[38;5;132;01m{\u001b[39;00mconst_cols\u001b[38;5;132;01m}\u001b[39;00m\u001b[38;5;124m are constant.\u001b[39m\u001b[38;5;124m\"\u001b[39m\n\u001b[1;32m    150\u001b[0m         )\n\u001b[1;32m    151\u001b[0m     msg \u001b[38;5;241m=\u001b[39m \u001b[38;5;124mf\u001b[39m\u001b[38;5;124m\"\u001b[39m\u001b[38;5;132;01m{\u001b[39;00mbase_err\u001b[38;5;132;01m}\u001b[39;00m\u001b[38;5;124m Adding a constant with trend=\u001b[39m\u001b[38;5;124m'\u001b[39m\u001b[38;5;132;01m{\u001b[39;00mtrend\u001b[38;5;132;01m}\u001b[39;00m\u001b[38;5;124m'\u001b[39m\u001b[38;5;124m is not allowed.\u001b[39m\u001b[38;5;124m\"\u001b[39m\n\u001b[0;32m--> 152\u001b[0m     \u001b[38;5;28;01mraise\u001b[39;00m \u001b[38;5;167;01mValueError\u001b[39;00m(msg)\n\u001b[1;32m    153\u001b[0m \u001b[38;5;28;01melif\u001b[39;00m has_constant \u001b[38;5;241m==\u001b[39m \u001b[38;5;124m\"\u001b[39m\u001b[38;5;124mskip\u001b[39m\u001b[38;5;124m\"\u001b[39m:\n\u001b[1;32m    154\u001b[0m     columns \u001b[38;5;241m=\u001b[39m columns[\u001b[38;5;241m1\u001b[39m:]\n",
      "\u001b[0;31mValueError\u001b[0m: x contains one or more constant columns. Column(s) 11 are constant. Adding a constant with trend='c' is not allowed."
     ]
    }
   ],
   "source": [
    "error = []\n",
    "\n",
    "a= 0\n",
    "for i in range(64) :\n",
    "    VAR_model = sm.tsa.VAR(train_pro[i])\n",
    "    results = VAR_model.fit(1)\n",
    "    forecast = results.forecast(train_pro[i].values[-1:], 2)\n",
    "    \n",
    "    a= 0\n",
    "    for j in range(2) :\n",
    "        a += (abs(forecast[j][-1] - test_pro[i]['% Silica Concentrate'].iloc[j]))\n",
    "    error.append(a/2)\n",
    "    \n",
    "error"
   ]
  },
  {
   "cell_type": "code",
   "execution_count": null,
   "metadata": {
    "scrolled": true
   },
   "outputs": [],
   "source": [
    "sum(error)/len(error)"
   ]
  }
 ],
 "metadata": {
  "kernelspec": {
   "display_name": "jwj",
   "language": "python",
   "name": "jwj"
  },
  "language_info": {
   "codemirror_mode": {
    "name": "ipython",
    "version": 3
   },
   "file_extension": ".py",
   "mimetype": "text/x-python",
   "name": "python",
   "nbconvert_exporter": "python",
   "pygments_lexer": "ipython3",
   "version": "3.8.16"
  }
 },
 "nbformat": 4,
 "nbformat_minor": 4
}
